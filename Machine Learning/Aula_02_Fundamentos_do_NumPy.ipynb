{
 "cells": [
  {
   "cell_type": "markdown",
   "id": "d89cdcf5",
   "metadata": {},
   "source": [
    "***Parte 1: O Que é o NumPy e Por Que Usá-lo? (A Teoria)***\n",
    "\n",
    "***O NumPy (Numerical Python)*** é a biblioteca-base para computação científica em Python.\n",
    "\n",
    "Seu principal objeto é o ndarray (n-dimensional array). Pense nele como uma \"super lista\" do Python, mas com duas grandes vantagens:\n",
    "\n",
    "Desempenho: Operações em arrays NumPy são vetorizadas. Em vez de usar um loop for para somar 10 a cada item de uma lista, você simplesmente faz array + 10. Por \"debaixo dos panos\", o NumPy executa essa operação em código C otimizado, que é ordens de magnitude mais rápido.\n",
    "\n",
    "Eficiência de Memória: Arrays NumPy consomem menos memória que listas Python, pois armazenam os dados de forma contígua (um item logo após o outro na memória).\n",
    "\n",
    "Em Machine Learning, tudo é matemática. Imagens são matrizes de pixels, textos são transformados em vetores numéricos e nossos dados são, em essência, grandes tabelas de números. O NumPy é a ferramenta que torna o processamento desses números viável e rápido."
   ]
  },
  {
   "cell_type": "markdown",
   "id": "357d05d5",
   "metadata": {},
   "source": [
    "***Parte 2: Prática - Criando Arrays NumPy***\n",
    "\n",
    "Vamos começar importando o NumPy. A convenção da comunidade é importá-lo com o apelido np."
   ]
  },
  {
   "cell_type": "code",
   "execution_count": null,
   "id": "9c645197",
   "metadata": {},
   "outputs": [],
   "source": [
    "# Importando o NumPy\n",
    "import numpy as np"
   ]
  },
  {
   "cell_type": "markdown",
   "id": "984e8854",
   "metadata": {},
   "source": [
    "***Existem várias formas de criar arrays:***"
   ]
  },
  {
   "cell_type": "code",
   "execution_count": null,
   "id": "5270eedc",
   "metadata": {},
   "outputs": [],
   "source": [
    "# 1. A partir de uma lista Python\n",
    "lista = [1, 2, 3, 4, 5]\n",
    "array_de_lista = np.array(lista)\n",
    "\n",
    "print(\"Array a partir de lista:\", array_de_lista)\n",
    "print(type(array_de_lista))\n",
    "\n",
    "# 2. Criando um array bidimensional (matriz)\n",
    "matriz_lista = [[1, 2, 3], [4, 5, 6]]\n",
    "array_matriz = np.array(matriz_lista)\n",
    "\n",
    "print(\"\\nArray bidimensional (matriz):\\n\", array_matriz)"
   ]
  },
  {
   "cell_type": "markdown",
   "id": "44f49a8d",
   "metadata": {},
   "source": [
    "***Existem também funções úteis para criar arrays \"do zero\":***"
   ]
  },
  {
   "cell_type": "code",
   "execution_count": null,
   "id": "7185ea58",
   "metadata": {},
   "outputs": [],
   "source": [
    "# 3. Array de zeros (útil para inicializar)\n",
    "zeros = np.zeros((3, 4)) # Uma matriz de 3 linhas e 4 colunas de zeros\n",
    "print(\"\\nArray de zeros (3x4):\\n\", zeros)\n",
    "\n",
    "# 4. Array de uns\n",
    "uns = np.ones((2, 3)) # Uma matriz de 2 linhas e 3 colunas de uns\n",
    "print(\"\\nArray de uns (2x3):\\n\", uns)\n",
    "\n",
    "# 5. Array com uma sequência (similar ao range do Python)\n",
    "sequencia = np.arange(0, 10, 2) # De 0 a 10 (exclusivo), pulando de 2 em 2\n",
    "print(\"\\nArray 'arange' (0 a 10, passo 2):\", sequencia)"
   ]
  },
  {
   "cell_type": "markdown",
   "id": "6a0dd938",
   "metadata": {},
   "source": [
    "***Parte 3: Prática - Operações com Arrays (Vetorização)*** \n",
    "\n",
    "Aqui está a mágica do NumPy. Veja como as operações são simples e rápidas, sem a necessidade de loops for."
   ]
  },
  {
   "cell_type": "code",
   "execution_count": null,
   "id": "12fd99b0",
   "metadata": {},
   "outputs": [],
   "source": [
    "a = np.array([1, 2, 3])\n",
    "b = np.array([4, 5, 6])\n",
    "\n",
    "print(\"Array a:\", a)\n",
    "print(\"Array b:\", b)\n",
    "\n",
    "# Operações elemento a elemento (element-wise)\n",
    "soma = a + b\n",
    "print(\"a + b =\", soma)\n",
    "\n",
    "subtracao = b - a\n",
    "print(\"b - a =\", subtracao)\n",
    "\n",
    "multiplicacao = a * b\n",
    "print(\"a * b =\", multiplicacao)"
   ]
  },
  {
   "cell_type": "markdown",
   "id": "b9967bcd",
   "metadata": {},
   "source": [
    "***Isso também funciona com um único número (chamado de broadcasting):***"
   ]
  },
  {
   "cell_type": "code",
   "execution_count": null,
   "id": "0bcd52ee",
   "metadata": {},
   "outputs": [],
   "source": [
    "# Operações com um escalar (um único número)\n",
    "array = np.array([10, 20, 30])\n",
    "\n",
    "print(\"\\nArray original:\", array)\n",
    "print(\"Array + 5:\", array + 5)\n",
    "print(\"Array * 2:\", array * 2)\n",
    "print(\"Array / 10:\", array / 10)"
   ]
  },
  {
   "cell_type": "markdown",
   "id": "4e882579",
   "metadata": {},
   "source": [
    "***Parte 4: Prática - Atributos e Indexação de Arrays***\n",
    "\n",
    "Precisamos saber o formato dos nossos dados e como selecionar partes específicas deles."
   ]
  },
  {
   "cell_type": "code",
   "execution_count": null,
   "id": "54f393b6",
   "metadata": {},
   "outputs": [],
   "source": [
    "matriz = np.array([[1, 2, 3], [4, 5, 6]])\n",
    "\n",
    "print(\"Matriz:\\n\", matriz)\n",
    "\n",
    "# .shape nos diz o formato (linhas, colunas)\n",
    "print(\"\\nFormato (shape) da matriz:\", matriz.shape) # Retorna (2, 3) -> 2 linhas, 3 colunas\n",
    "\n",
    "# .ndim nos diz o número de dimensões\n",
    "print(\"Número de dimensões (ndim):\", matriz.ndim) # Rzetorna 2"
   ]
  },
  {
   "cell_type": "markdown",
   "id": "e69a1dff",
   "metadata": {},
   "source": [
    "***Reformatação (Reshaping)***\n",
    "\n",
    "Muitas vezes, os algoritmos de Machine Learning exigem que os dados estejam em um formato específico."
   ]
  },
  {
   "cell_type": "code",
   "execution_count": null,
   "id": "43929226",
   "metadata": {},
   "outputs": [],
   "source": [
    "# Criando um array 1D com 12 elementos\n",
    "array_longo = np.arange(1, 13)\n",
    "print(\"Array 1D original (12 elementos):\", array_longo)\n",
    "print(\"Shape original:\", array_longo.shape) # Retorna (12,)\n",
    "\n",
    "# Reformantando para uma matriz de 3 linhas e 4 colunas\n",
    "matriz_3_por_4 = array_longo.reshape(3, 4)\n",
    "print(\"\\nMatriz 3x4:\\n\", matriz_3_por_4)\n",
    "print(\"Novo shape:\", matriz_3_por_4.shape) # Retorna (3, 4)\n",
    "\n",
    "# Reformantando para uma matriz de 4 linhas e 3 colunas\n",
    "matriz_4_por_3 = array_longo.reshape(4, 3)\n",
    "print(\"\\nMatriz 4x3:\\n\", matriz_4_por_3)\n",
    "print(\"Novo shape:\", matriz_4_por_3.shape) # Retorna (4, 3)"
   ]
  },
  {
   "cell_type": "markdown",
   "id": "646e0c88",
   "metadata": {},
   "source": [
    "***Indexação e Fatiamento (Slicing)***\n",
    "\n",
    "Funciona de forma parecida com as listas Python, mas com mais dimensões."
   ]
  },
  {
   "cell_type": "code",
   "execution_count": null,
   "id": "f75dd35b",
   "metadata": {},
   "outputs": [],
   "source": [
    "# Em arrays 1D\n",
    "array_1d = np.array([10, 20, 30, 40, 50])\n",
    "\n",
    "print(\"Array 1D:\", array_1d)\n",
    "print(\"Primeiro elemento:\", array_1d[0]) # Retorna 10\n",
    "print(\"Último elemento:\", array_1d[-1]) # Retorna 50\n",
    "print(\"Do segundo ao quarto elemento:\", array_1d[1:4]) # Retorna [20, 30, 40]\n",
    "\n",
    "\n",
    "# Em arrays 2D (matrizes)\n",
    "# Usamos [linha, coluna]\n",
    "matriz = np.array([[1, 2, 3],\n",
    "                   [4, 5, 6],\n",
    "                   [7, 8, 9]])\n",
    "\n",
    "print(\"\\nMatriz 3x3:\\n\", matriz)\n",
    "\n",
    "# Selecionando um único elemento: linha 1, coluna 2\n",
    "# (Lembre-se que a contagem começa em 0)\n",
    "print(\"Elemento na linha 1, coluna 2:\", matriz[1, 2]) # Retorna 6\n",
    "\n",
    "# Selecionando uma linha inteira: linha 0\n",
    "print(\"Linha 0 completa:\", matriz[0, :]) # O ':' significa \"tudo\"\n",
    "\n",
    "# Selecionando uma coluna inteira: coluna 1\n",
    "print(\"Coluna 1 completa:\", matriz[:, 1]) # Retorna [2, 5, 8]"
   ]
  }
 ],
 "metadata": {
  "kernelspec": {
   "display_name": "Python 3",
   "language": "python",
   "name": "python3"
  },
  "language_info": {
   "codemirror_mode": {
    "name": "ipython",
    "version": 3
   },
   "file_extension": ".py",
   "mimetype": "text/x-python",
   "name": "python",
   "nbconvert_exporter": "python",
   "pygments_lexer": "ipython3",
   "version": "3.12.1"
  }
 },
 "nbformat": 4,
 "nbformat_minor": 5
}
