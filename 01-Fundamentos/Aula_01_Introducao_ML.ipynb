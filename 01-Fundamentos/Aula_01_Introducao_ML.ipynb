{
 "cells": [
  {
   "cell_type": "markdown",
   "id": "f1128a34",
   "metadata": {},
   "source": [
    "**Parte 1: O que é Machine Learning? (Teoria)**\n",
    "\n"
   ]
  },
  {
   "cell_type": "markdown",
   "id": "56b2760d",
   "metadata": {},
   "source": [
    "Imagine que você queira ensinar um computador a diferenciar fotos de cães e gatos.\n",
    "\n",
    "**Abordagem Tradicional:** Você, como programador, escreveria regras explicitas: \"Se o animal tiver orelhas pontudas e bigodes longos, logo esse animal será um gato. \n",
    "O problema é que isso seria extremamente complexo e falho. E se o gato estiver dormindo? E se a foto estiver cortada?\n",
    "\n",
    "**Abordagem Machine Learning:** Em vez de escrever regras, você mostra ao computador milhões de fotos, cada uma rotulada como \"cão\" ou \"gato\". O computador através de um \n",
    "algoritimo aprende sozinho os padrões que distinguem cães e gatos. Ele cria suas proprias regras internas.\n",
    "\n",
    "**Machine Learning:** é um campo da inteligência artificial que dá aos computadores habilidades de aprender a partir de dados, sem serem explicitamente programados. O modelo\n",
    "\"aprende\" com a experiência (os dados) e melhora o desempenho em uma tarefa."
   ]
  },
  {
   "cell_type": "markdown",
   "id": "b0125d1b",
   "metadata": {},
   "source": [
    "**Os 3 principais tipos de Machine Learning**"
   ]
  },
  {
   "cell_type": "markdown",
   "id": "bd48f0f4",
   "metadata": {},
   "source": [
    "**1. Aprendizado Supervisionado (Supervised Learning)**"
   ]
  },
  {
   "cell_type": "markdown",
   "id": "fe761174",
   "metadata": {},
   "source": [
    "É o tipo mais comum, o algoritimo aprende a partir de um conjunto de dados que já contem as \"respostas certas\". É como aprender com um professor que te da exemplos e as soluções.\n",
    "\n",
    "**dados:** Rotulados (ex: e-mails marcados como \"spam\" ou \"não spam\").\n",
    "\n",
    "**Objetivo:** Fazer previsões sobre dados novos nunca vistos.\n",
    "\n",
    "**Exemplos:** \n",
    "\n",
    "**Regressão:** Prever um valor númerico contínuo. (Ex: Prever o preço de uma casa com base no seu tamanho e localização).\n",
    "\n",
    "**Classificação:** Prever uma categoria. (Ex: Diagnosticar se um tumor é maligno ou benigno)."
   ]
  },
  {
   "cell_type": "markdown",
   "id": "5487351c",
   "metadata": {},
   "source": [
    "**2. Aprendizado Não Supervisionado (Unsupervised Learning)**"
   ]
  },
  {
   "cell_type": "markdown",
   "id": "dc5c0a65",
   "metadata": {},
   "source": [
    "Neste caso, o algoritmo recebe dados sem nenhuma resposta. A tarefa é encontrar estruturas, padrões ou anomalias por conta própria. É como receber uma caixa de peças de Lego de cores e formatos variados e ter que organizá-las em grupos lógicos sem instruções.\n",
    "\n",
    "**Dados:** Não rotulados.\n",
    "\n",
    "**Objetivo:** Entender a estrutura interna dos dados.\n",
    "\n",
    "**Exemplos:** \n",
    "\n",
    "**Clusterização:** Agrupar clientes de um e-commerce com base em seus comportamentos de compra.\n",
    "\n",
    "**Detecção de Anomalias:** Identificar transações fraudulentas em um sistema de cartão de crédito."
   ]
  },
  {
   "cell_type": "markdown",
   "id": "7acf799d",
   "metadata": {},
   "source": [
    "**3. Aprendizado por Reforço (Reinforcement Learning)**"
   ]
  },
  {
   "cell_type": "markdown",
   "id": "0c21aa35",
   "metadata": {},
   "source": [
    "O algoritmo (chamado de \"agente\") aprende a tomar decisões interagindo com um ambiente. Ele recebe recompensas por ações boas e punições por ações ruins, com o objetivo de maximizar a recompensa total ao longo do tempo.\n",
    "\n",
    "**Dados:** Não há um conjunto de dados inicial. O agente gera dados através de tentativa e erro.\n",
    "\n",
    "**Objetivo:** Aprender a melhor sequência de ações para atingir um objetivo.\n",
    "\n",
    "**Exemplos:**\n",
    "\n",
    "Um software aprendendo a jogar xadrez ou videogame.\n",
    "\n",
    "Um robô aprendendo a andar.\n",
    "\n",
    "Otimização de sistemas de trânsito em tempo real."
   ]
  },
  {
   "cell_type": "markdown",
   "id": "4414ca58",
   "metadata": {},
   "source": [
    "**Parte 2: O Ecossistema Python para Machine Learning**"
   ]
  },
  {
   "cell_type": "markdown",
   "id": "e87a67d7",
   "metadata": {},
   "source": [
    "Usaremos um conjunto de bibliotecas poderosas que formam a base do Machine Learning em Python:"
   ]
  },
  {
   "cell_type": "markdown",
   "id": "e47a5428",
   "metadata": {},
   "source": [
    "**NumPy:** Para operações matemáticas eficientes com arrays e matrizes.\n",
    "\n",
    "**Pandas:** Para manipulação e análise de dados em formato de tabelas (DataFrames).\n",
    "\n",
    "**Matplotlib & Seaborn:** Para criar visualizações e gráficos para explorar os dados.\n",
    "\n",
    "**Scikit-learn:** A principal biblioteca para implementar algoritmos de Machine Learning, pré-processamento de dados e avaliação de modelos.\n",
    "\n",
    "**Jupyter:** A ferramenta que nos permite criar \"Notebooks\" interativos, onde podemos misturar código, texto, imagens e gráficos."
   ]
  }
 ],
 "metadata": {
  "kernelspec": {
   "display_name": "Python 3",
   "language": "python",
   "name": "python3"
  },
  "language_info": {
   "name": "python",
   "version": "3.12.12"
  }
 },
 "nbformat": 4,
 "nbformat_minor": 5
}
