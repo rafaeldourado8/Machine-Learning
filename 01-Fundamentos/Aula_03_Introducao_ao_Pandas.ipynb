{
 "cells": [
  {
   "cell_type": "markdown",
   "id": "bb3b4a54",
   "metadata": {},
   "source": [
    "***Parte 1: O Que é o Pandas? (A Teoria)***\n",
    "\n",
    "O Pandas (Python Data Analysis Library) é uma biblioteca construída sobre o NumPy. Ela foi criada para tornar a manipulação e análise de dados mais fácil e intuitiva.\n",
    "\n",
    "Pense no NumPy como a matéria-prima (arrays rápidos e eficientes) e no Pandas como o produto final (uma ferramenta que nos permite organizar esses arrays em tabelas).\n",
    "\n",
    "***As Duas Estruturas Principais:***\n",
    "\n",
    "***Series (Série):*** É um array unidimensional, muito parecido com um array NumPy, mas com um diferencial: ele possui rótulos (labels), chamados de índice (index). \n",
    "Pense nela como uma única coluna de uma planilha do Excel.\n",
    "\n",
    "***DataFrame (Quadro de Dados):*** É a estrutura que usaremos o tempo todo. É uma tabela bidimensional (linhas e colunas), onde cada coluna é uma Series. \n",
    "Ela possui tanto um índice para as linhas quanto rótulos para as colunas. Pense nele como uma planilha inteira do Excel ou uma tabela de um banco de dados SQL."
   ]
  },
  {
   "cell_type": "markdown",
   "id": "576bdaf3",
   "metadata": {},
   "source": [
    "***Parte 2: Prática - Criando Series e DataFrame***"
   ]
  },
  {
   "cell_type": "markdown",
   "id": "3f573f62",
   "metadata": {},
   "source": [
    "Vamos importar o Pandas, que por convenção, recebe o apelido de pd.\n",
    "\n"
   ]
  },
  {
   "cell_type": "code",
   "execution_count": null,
   "id": "b1da60a6",
   "metadata": {},
   "outputs": [],
   "source": [
    "# Importando o Pandas\n",
    "import pandas as pd\n",
    "import numpy as np # Quase sempre importamos o numpy junto"
   ]
  },
  {
   "cell_type": "markdown",
   "id": "227258d8",
   "metadata": {},
   "source": [
    "***Criando uma Series:***\n"
   ]
  },
  {
   "cell_type": "code",
   "execution_count": null,
   "id": "291a7ebb",
   "metadata": {},
   "outputs": [],
   "source": [
    "# Criando uma Series a partir de uma lista\n",
    "s = pd.Series([10, 20, 30, 40, 50])\n",
    "print(\"Uma Series simples:\")\n",
    "print(s)\n",
    "\n",
    "# Veja o índice (index) e os valores (values)\n",
    "print(\"\\nValores:\", s.values)\n",
    "print(\"Índice:\", s.index)"
   ]
  },
  {
   "cell_type": "markdown",
   "id": "5f11fd50",
   "metadata": {},
   "source": [
    "***Criando um DataFrame:***"
   ]
  },
  {
   "cell_type": "code",
   "execution_count": null,
   "id": "bc373b1b",
   "metadata": {},
   "outputs": [],
   "source": [
    "# Criando um DataFrame a partir de um dicionário\n",
    "data = {\n",
    "    'Nome': ['Ana', 'Bruno', 'Carla', 'David'],\n",
    "    'Idade': [28, 35, 22, 41],\n",
    "    'Cidade': ['São Paulo', 'Rio de Janeiro', 'Belo Horizonte', 'Curitiba']\n",
    "}\n",
    "\n",
    "df_pessoas = pd.DataFrame(data)\n",
    "\n",
    "print(\"Nosso primeiro DataFrame:\")\n",
    "print(df_pessoas)"
   ]
  },
  {
   "cell_type": "markdown",
   "id": "e4a5aa86",
   "metadata": {},
   "source": [
    "***Parte 3: Prática - Carregando Dados do Mundo Real***"
   ]
  },
  {
   "cell_type": "markdown",
   "id": "3f2f3433",
   "metadata": {},
   "source": [
    "Criar DataFrames na mão é raro. Na maioria das vezes, vamos carregar dados de arquivos externos. A função mais comum é a pd.read_csv().\n",
    "\n",
    "Como estamos no Codespaces, a forma mais fácil é ler um CSV diretamente de uma URL. Vamos usar o famoso dataset do Titanic."
   ]
  },
  {
   "cell_type": "code",
   "execution_count": null,
   "id": "d76d64aa",
   "metadata": {},
   "outputs": [],
   "source": [
    "# URL para o conjunto de dados \"Titanic\"\n",
    "url = 'https://raw.githubusercontent.com/datasciencedojo/datasets/master/titanic.csv'\n",
    "\n",
    "# Carregando os dados para um DataFrame chamado 'df'\n",
    "df = pd.read_csv(url)\n",
    "\n",
    "print(\"Dataset do Titanic carregado com sucesso!\")"
   ]
  }
 ],
 "metadata": {
  "language_info": {
   "name": "python"
  }
 },
 "nbformat": 4,
 "nbformat_minor": 5
}
